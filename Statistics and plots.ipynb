{
 "cells": [
  {
   "cell_type": "code",
   "execution_count": 2,
   "id": "5ad14bf6",
   "metadata": {},
   "outputs": [],
   "source": [
    "import pandas as pd\n",
    "import numpy as np"
   ]
  },
  {
   "cell_type": "code",
   "execution_count": 3,
   "id": "40e23cf9",
   "metadata": {},
   "outputs": [],
   "source": [
    "data_deleted = pd.read_csv('Last_version_deleted.csv',low_memory=False)\n",
    "legitmate_data = pd.read_csv('Last_version_legitmate.csv',low_memory=False)"
   ]
  },
  {
   "cell_type": "code",
   "execution_count": 154,
   "id": "d8038597",
   "metadata": {},
   "outputs": [
    {
     "name": "stderr",
     "output_type": "stream",
     "text": [
      "C:\\Users\\Maryam\\AppData\\Local\\Temp/ipykernel_11000/2989218543.py:1: FutureWarning: Dropping of nuisance columns in DataFrame reductions (with 'numeric_only=None') is deprecated; in a future version this will raise TypeError.  Select only valid columns before calling the reduction.\n",
      "  full.sum()\n"
     ]
    },
    {
     "data": {
      "text/html": [
       "<div>\n",
       "<style scoped>\n",
       "    .dataframe tbody tr th:only-of-type {\n",
       "        vertical-align: middle;\n",
       "    }\n",
       "\n",
       "    .dataframe tbody tr th {\n",
       "        vertical-align: top;\n",
       "    }\n",
       "\n",
       "    .dataframe thead th {\n",
       "        text-align: right;\n",
       "    }\n",
       "</style>\n",
       "<table border=\"1\" class=\"dataframe\">\n",
       "  <thead>\n",
       "    <tr style=\"text-align: right;\">\n",
       "      <th></th>\n",
       "      <th>Author</th>\n",
       "      <th>Content</th>\n",
       "      <th>Tweet_id</th>\n",
       "      <th>Following</th>\n",
       "      <th>Followers</th>\n",
       "      <th>Deleted</th>\n",
       "      <th>Clean</th>\n",
       "      <th>Postags</th>\n",
       "      <th>LS</th>\n",
       "      <th>TO</th>\n",
       "      <th>...</th>\n",
       "      <th>MD</th>\n",
       "      <th>VB</th>\n",
       "      <th>WRB</th>\n",
       "      <th>NNP</th>\n",
       "      <th>EX</th>\n",
       "      <th>NNS</th>\n",
       "      <th>SYM</th>\n",
       "      <th>CC</th>\n",
       "      <th>CD</th>\n",
       "      <th>POS</th>\n",
       "    </tr>\n",
       "  </thead>\n",
       "  <tbody>\n",
       "    <tr>\n",
       "      <th>0</th>\n",
       "      <td>Sean Spicer</td>\n",
       "      <td>RNC Chair @rnc @ReincePriebus will be on CSPAN...</td>\n",
       "      <td>1.680000e+17</td>\n",
       "      <td>995</td>\n",
       "      <td>448K</td>\n",
       "      <td>1</td>\n",
       "      <td>rnc chair will be on cspan around pm tonight f...</td>\n",
       "      <td>['NN', 'NN', 'VBP', 'IN', 'NN', 'NN', 'NN']</td>\n",
       "      <td>0.0</td>\n",
       "      <td>0.0</td>\n",
       "      <td>...</td>\n",
       "      <td>0.0</td>\n",
       "      <td>0.0</td>\n",
       "      <td>0.0</td>\n",
       "      <td>0.0</td>\n",
       "      <td>0.0</td>\n",
       "      <td>0.000000</td>\n",
       "      <td>0.0</td>\n",
       "      <td>0.0</td>\n",
       "      <td>0.0</td>\n",
       "      <td>0.0</td>\n",
       "    </tr>\n",
       "    <tr>\n",
       "      <th>1</th>\n",
       "      <td>Sean Spicer</td>\n",
       "      <td>Want to know the real cost of Obamacare http:/...</td>\n",
       "      <td>1.250000e+17</td>\n",
       "      <td>995</td>\n",
       "      <td>448K</td>\n",
       "      <td>1</td>\n",
       "      <td>want to know the real cost of obamacare</td>\n",
       "      <td>['NN', 'VB', 'JJ', 'NN', 'NN']</td>\n",
       "      <td>0.0</td>\n",
       "      <td>0.0</td>\n",
       "      <td>...</td>\n",
       "      <td>0.0</td>\n",
       "      <td>0.2</td>\n",
       "      <td>0.0</td>\n",
       "      <td>0.0</td>\n",
       "      <td>0.0</td>\n",
       "      <td>0.000000</td>\n",
       "      <td>0.0</td>\n",
       "      <td>0.0</td>\n",
       "      <td>0.0</td>\n",
       "      <td>0.0</td>\n",
       "    </tr>\n",
       "    <tr>\n",
       "      <th>2</th>\n",
       "      <td>Sean Spicer</td>\n",
       "      <td>.@rollcall @pennstatetom makes the case for ph...</td>\n",
       "      <td>6.750000e+17</td>\n",
       "      <td>995</td>\n",
       "      <td>448K</td>\n",
       "      <td>1</td>\n",
       "      <td>makes the case for photographers media walk thru</td>\n",
       "      <td>['VBZ', 'NN', 'NNS', 'NNS', 'VBP', 'NN']</td>\n",
       "      <td>0.0</td>\n",
       "      <td>0.0</td>\n",
       "      <td>...</td>\n",
       "      <td>0.0</td>\n",
       "      <td>0.0</td>\n",
       "      <td>0.0</td>\n",
       "      <td>0.0</td>\n",
       "      <td>0.0</td>\n",
       "      <td>0.333333</td>\n",
       "      <td>0.0</td>\n",
       "      <td>0.0</td>\n",
       "      <td>0.0</td>\n",
       "      <td>0.0</td>\n",
       "    </tr>\n",
       "    <tr>\n",
       "      <th>3</th>\n",
       "      <td>Ben &amp; Candy Carson</td>\n",
       "      <td>Building strong relationships will #HealInspir...</td>\n",
       "      <td>6.520000e+17</td>\n",
       "      <td>50</td>\n",
       "      <td>2.2M</td>\n",
       "      <td>1</td>\n",
       "      <td>building strong relationships will healinspire...</td>\n",
       "      <td>['NN', 'JJ', 'NNS', 'JJ', 'NN']</td>\n",
       "      <td>0.0</td>\n",
       "      <td>0.0</td>\n",
       "      <td>...</td>\n",
       "      <td>0.0</td>\n",
       "      <td>0.0</td>\n",
       "      <td>0.0</td>\n",
       "      <td>0.0</td>\n",
       "      <td>0.0</td>\n",
       "      <td>0.200000</td>\n",
       "      <td>0.0</td>\n",
       "      <td>0.0</td>\n",
       "      <td>0.0</td>\n",
       "      <td>0.0</td>\n",
       "    </tr>\n",
       "    <tr>\n",
       "      <th>4</th>\n",
       "      <td>Larry Kudlow</td>\n",
       "      <td>@noellenikpour @StephenMoore @batchelorshow @M...</td>\n",
       "      <td>5.170000e+17</td>\n",
       "      <td>322</td>\n",
       "      <td>235.9</td>\n",
       "      <td>1</td>\n",
       "      <td>hi noelle please give me a yell</td>\n",
       "      <td>['NN', 'JJ', 'NN', 'VB', 'NN']</td>\n",
       "      <td>0.0</td>\n",
       "      <td>0.0</td>\n",
       "      <td>...</td>\n",
       "      <td>0.0</td>\n",
       "      <td>0.2</td>\n",
       "      <td>0.0</td>\n",
       "      <td>0.0</td>\n",
       "      <td>0.0</td>\n",
       "      <td>0.000000</td>\n",
       "      <td>0.0</td>\n",
       "      <td>0.0</td>\n",
       "      <td>0.0</td>\n",
       "      <td>0.0</td>\n",
       "    </tr>\n",
       "  </tbody>\n",
       "</table>\n",
       "<p>5 rows × 53 columns</p>\n",
       "</div>"
      ],
      "text/plain": [
       "               Author                                            Content  \\\n",
       "0         Sean Spicer  RNC Chair @rnc @ReincePriebus will be on CSPAN...   \n",
       "1         Sean Spicer  Want to know the real cost of Obamacare http:/...   \n",
       "2         Sean Spicer  .@rollcall @pennstatetom makes the case for ph...   \n",
       "3  Ben & Candy Carson  Building strong relationships will #HealInspir...   \n",
       "4        Larry Kudlow  @noellenikpour @StephenMoore @batchelorshow @M...   \n",
       "\n",
       "       Tweet_id Following Followers  Deleted  \\\n",
       "0  1.680000e+17       995      448K        1   \n",
       "1  1.250000e+17       995      448K        1   \n",
       "2  6.750000e+17       995      448K        1   \n",
       "3  6.520000e+17        50      2.2M        1   \n",
       "4  5.170000e+17       322     235.9        1   \n",
       "\n",
       "                                               Clean  \\\n",
       "0  rnc chair will be on cspan around pm tonight f...   \n",
       "1            want to know the real cost of obamacare   \n",
       "2   makes the case for photographers media walk thru   \n",
       "3  building strong relationships will healinspire...   \n",
       "4                    hi noelle please give me a yell   \n",
       "\n",
       "                                       Postags   LS   TO  ...   MD   VB  WRB  \\\n",
       "0  ['NN', 'NN', 'VBP', 'IN', 'NN', 'NN', 'NN']  0.0  0.0  ...  0.0  0.0  0.0   \n",
       "1               ['NN', 'VB', 'JJ', 'NN', 'NN']  0.0  0.0  ...  0.0  0.2  0.0   \n",
       "2     ['VBZ', 'NN', 'NNS', 'NNS', 'VBP', 'NN']  0.0  0.0  ...  0.0  0.0  0.0   \n",
       "3              ['NN', 'JJ', 'NNS', 'JJ', 'NN']  0.0  0.0  ...  0.0  0.0  0.0   \n",
       "4               ['NN', 'JJ', 'NN', 'VB', 'NN']  0.0  0.0  ...  0.0  0.2  0.0   \n",
       "\n",
       "   NNP   EX       NNS  SYM   CC   CD  POS  \n",
       "0  0.0  0.0  0.000000  0.0  0.0  0.0  0.0  \n",
       "1  0.0  0.0  0.000000  0.0  0.0  0.0  0.0  \n",
       "2  0.0  0.0  0.333333  0.0  0.0  0.0  0.0  \n",
       "3  0.0  0.0  0.200000  0.0  0.0  0.0  0.0  \n",
       "4  0.0  0.0  0.000000  0.0  0.0  0.0  0.0  \n",
       "\n",
       "[5 rows x 53 columns]"
      ]
     },
     "execution_count": 154,
     "metadata": {},
     "output_type": "execute_result"
    }
   ],
   "source": [
    "full.sum()\n",
    "full.head()"
   ]
  },
  {
   "cell_type": "code",
   "execution_count": 299,
   "id": "7b7015f3",
   "metadata": {},
   "outputs": [],
   "source": [
    "df_deleted_pos = data_deleted.iloc[:,:53]"
   ]
  },
  {
   "cell_type": "code",
   "execution_count": 300,
   "id": "b4476ab2",
   "metadata": {},
   "outputs": [],
   "source": [
    "legitmate_data_pos = legitmate_data.iloc[:,:53]"
   ]
  },
  {
   "cell_type": "code",
   "execution_count": 301,
   "id": "9bb6faf5",
   "metadata": {},
   "outputs": [
    {
     "data": {
      "image/png": "[encoded data removed]",
      "text/plain": [
       "<Figure size 1440x720 with 1 Axes>"
      ]
     },
     "metadata": {
      "needs_background": "light"
     },
     "output_type": "display_data"
    }
   ],
   "source": [
    "# Create a Plot for POS tags\n",
    "\n",
    "fig = plt.figure(figsize =(20, 10))\n",
    "\n",
    "x=legitmate_data_pos.columns[8:]\n",
    "df_l =legitmate_data_pos.sum(axis=0)[8:]\n",
    "Legitimate=list(df_l)\n",
    "\n",
    "df_D =df_deleted_pos.sum(axis=0)[8:]\n",
    "Deleted=list(df_D)\n",
    "\n",
    "\n",
    "#female = [5, 10, 15, 20, 25]\n",
    "#male = [15, 20, 30, 16, 13]\n",
    "\n",
    "x_axis = np.arange(len(x))\n",
    "\n",
    "# Multi bar Chart\n",
    "\n",
    "plt.bar(x_axis -0.2, Legitimate, width=0.4, label = 'Legitimate')\n",
    "plt.bar(x_axis +0.2, Deleted, width=0.4, label = 'Deleted')\n",
    "\n",
    "# Xticks\n",
    "\n",
    "plt.xticks(x_axis, x)\n",
    "\n",
    "# Add legend\n",
    "\n",
    "plt.legend()\n",
    "\n",
    "# Display\n",
    "\n",
    "plt.show()"
   ]
  },
  {
   "cell_type": "code",
   "execution_count": 302,
   "id": "95ec4229",
   "metadata": {},
   "outputs": [
    {
     "data": {
      "text/plain": [
       "(5916, 53)"
      ]
     },
     "execution_count": 302,
     "metadata": {},
     "output_type": "execute_result"
    }
   ],
   "source": [
    "full = pd.concat([df_deleted_pos, legitmate_data_pos]).reset_index(drop=True)\n",
    "full.shape"
   ]
  },
  {
   "cell_type": "code",
   "execution_count": 275,
   "id": "d36f419c",
   "metadata": {},
   "outputs": [
    {
     "data": {
      "image/png": "[encoded data removed]",
      "text/plain": [
       "<Figure size 432x288 with 1 Axes>"
      ]
     },
     "metadata": {
      "needs_background": "light"
     },
     "output_type": "display_data"
    }
   ],
   "source": [
    "plt.hist(legitmate_data['NN'],bins = 10, alpha = 0.5)\n",
    "plt.hist(data_deleted['NN'],bins = 10, alpha = 0.5)\n",
    "plt.show()"
   ]
  },
  {
   "cell_type": "code",
   "execution_count": 276,
   "id": "fabf9347",
   "metadata": {},
   "outputs": [
    {
     "data": {
      "image/png": "[encoded data removed]",
      "text/plain": [
       "<Figure size 432x288 with 1 Axes>"
      ]
     },
     "metadata": {
      "needs_background": "light"
     },
     "output_type": "display_data"
    }
   ],
   "source": [
    "plt.hist(legitmate_data['JJ'],bins = 10, alpha = 0.5)\n",
    "plt.hist(data_deleted['JJ'],bins = 10, alpha = 0.5)\n",
    "plt.show()"
   ]
  },
  {
   "cell_type": "code",
   "execution_count": 277,
   "id": "5311101b",
   "metadata": {},
   "outputs": [
    {
     "data": {
      "image/png": "[encoded data removed]",
      "text/plain": [
       "<Figure size 432x288 with 1 Axes>"
      ]
     },
     "metadata": {
      "needs_background": "light"
     },
     "output_type": "display_data"
    }
   ],
   "source": [
    "plt.hist(legitmate_data['NNS'],bins = 10, alpha = 0.5)\n",
    "plt.hist(data_deleted['NNS'],bins = 10, alpha = 0.5)\n",
    "plt.show()"
   ]
  },
  {
   "cell_type": "code",
   "execution_count": 282,
   "id": "5156b795",
   "metadata": {},
   "outputs": [
    {
     "name": "stdout",
     "output_type": "stream",
     "text": [
      "TRAIN: [ 588  589  590 ... 5913 5914 5915] TEST: [   0    1    2 ... 3529 3530 3531]\n",
      "accuracy_score 0.6157094594594594\n",
      "confusion_matrix [[374 222]\n",
      " [233 355]]\n",
      "TRAIN: [   0    1    2 ... 5913 5914 5915] TEST: [ 588  589  590 ... 4125 4126 4127]\n",
      "accuracy_score 0.5756551141166526\n",
      "confusion_matrix [[344 252]\n",
      " [250 337]]\n",
      "TRAIN: [   0    1    2 ... 5913 5914 5915] TEST: [1175 1176 1177 ... 4721 4722 4723]\n",
      "accuracy_score 0.5832628909551987\n",
      "confusion_matrix [[360 236]\n",
      " [257 330]]\n",
      "TRAIN: [   0    1    2 ... 5913 5914 5915] TEST: [1762 1763 1764 ... 5317 5318 5319]\n",
      "accuracy_score 0.5908706677937448\n",
      "confusion_matrix [[344 252]\n",
      " [232 355]]\n",
      "TRAIN: [   0    1    2 ... 5317 5318 5319] TEST: [2349 2350 2351 ... 5913 5914 5915]\n",
      "accuracy_score 0.5731191885038038\n",
      "confusion_matrix [[331 265]\n",
      " [240 347]]\n",
      "Confusion Matrix:\n"
     ]
    },
    {
     "data": {
      "text/plain": [
       "array([[1944, 1036],\n",
       "       [ 999, 1937]], dtype=int64)"
      ]
     },
     "execution_count": 282,
     "metadata": {},
     "output_type": "execute_result"
    }
   ],
   "source": [
    "from sklearn.ensemble import GradientBoostingClassifier, RandomForestClassifier\n",
    "from sklearn.model_selection import train_test_split, StratifiedKFold\n",
    "from sklearn.metrics import accuracy_score, confusion_matrix\n",
    "\n",
    "x = full.iloc[:, 8:]\n",
    "y = full.iloc[:, 5]\n",
    "\n",
    "skf = StratifiedKFold(n_splits=5)\n",
    "skf.get_n_splits(x, y)\n",
    "\n",
    "for train_index, test_index in skf.split(x, y):\n",
    "    print(\"TRAIN:\", train_index, \"TEST:\", test_index)\n",
    "    x_train, x_test = x.loc[train_index], x.loc[test_index]\n",
    "    y_train, y_test = y.loc[train_index], y.loc[test_index]\n",
    "    \n",
    "    clf = GradientBoostingClassifier(learning_rate=0.1, max_depth= 5, max_features = 5,random_state = 42)\n",
    "#     clf = RandomForestClassifier(random_state = 42)\n",
    "    \n",
    "    clf.fit(x_train, y_train)\n",
    "    preds = clf.predict(x_test)\n",
    "    \n",
    "    print('accuracy_score',accuracy_score(y_test, preds))\n",
    "    \n",
    "    print('confusion_matrix',confusion_matrix(y_test, preds))\n",
    "\n",
    "\n",
    "total_preds = clf.predict(x)\n",
    "print(\"Confusion Matrix:\")\n",
    "confusion_matrix(y,total_preds)"
   ]
  },
  {
   "cell_type": "code",
   "execution_count": 284,
   "id": "1622081c",
   "metadata": {},
   "outputs": [
    {
     "data": {
      "image/png": "[encoded data removed]",
      "text/plain": [
       "<Figure size 1080x720 with 1 Axes>"
      ]
     },
     "metadata": {
      "needs_background": "light"
     },
     "output_type": "display_data"
    }
   ],
   "source": [
    "feature_importance = clf.feature_importances_\n",
    "# make importances relative to max importance\n",
    "feature_importance = 100.0 * (feature_importance / feature_importance.max())\n",
    "sorted_idx = np.argsort(feature_importance)\n",
    "pos = np.arange(sorted_idx.shape[0]) + .5\n",
    "plt.figure(figsize=(15,10))\n",
    "plt.barh(pos, feature_importance[sorted_idx], align='center')\n",
    "plt.yticks(pos, x.columns[sorted_idx])\n",
    "plt.xlabel('Relative Importance')\n",
    "plt.title('Variable Importance')\n",
    "plt.show()"
   ]
  },
  {
   "cell_type": "code",
   "execution_count": 285,
   "id": "740dd2ca",
   "metadata": {},
   "outputs": [
    {
     "name": "stdout",
     "output_type": "stream",
     "text": [
      "TRAIN: [ 588  589  590 ... 5913 5914 5915] TEST: [   0    1    2 ... 3529 3530 3531]\n",
      "accuracy_score 0.5793918918918919\n",
      "confusion_matrix [[323 273]\n",
      " [225 363]]\n",
      "TRAIN: [   0    1    2 ... 5913 5914 5915] TEST: [ 588  589  590 ... 4125 4126 4127]\n",
      "accuracy_score 0.5486052409129332\n",
      "confusion_matrix [[334 262]\n",
      " [272 315]]\n",
      "TRAIN: [   0    1    2 ... 5913 5914 5915] TEST: [1175 1176 1177 ... 4721 4722 4723]\n",
      "accuracy_score 0.5511411665257819\n",
      "confusion_matrix [[326 270]\n",
      " [261 326]]\n",
      "TRAIN: [   0    1    2 ... 5913 5914 5915] TEST: [1762 1763 1764 ... 5317 5318 5319]\n",
      "accuracy_score 0.5739644970414202\n",
      "confusion_matrix [[324 272]\n",
      " [232 355]]\n",
      "TRAIN: [   0    1    2 ... 5317 5318 5319] TEST: [2349 2350 2351 ... 5913 5914 5915]\n",
      "accuracy_score 0.5722738799661876\n",
      "confusion_matrix [[327 269]\n",
      " [237 350]]\n",
      "Confusion Matrix:\n"
     ]
    },
    {
     "data": {
      "text/plain": [
       "array([[2409,  571],\n",
       "       [ 481, 2455]], dtype=int64)"
      ]
     },
     "execution_count": 285,
     "metadata": {},
     "output_type": "execute_result"
    }
   ],
   "source": [
    "x = full.iloc[:, 8:]\n",
    "y = full.iloc[:, 5]\n",
    "\n",
    "skf = StratifiedKFold(n_splits=5)\n",
    "skf.get_n_splits(x, y)\n",
    "\n",
    "for train_index, test_index in skf.split(x, y):\n",
    "    print(\"TRAIN:\", train_index, \"TEST:\", test_index)\n",
    "    x_train, x_test = x.loc[train_index], x.loc[test_index]\n",
    "    y_train, y_test = y.loc[train_index], y.loc[test_index]\n",
    "    \n",
    "    #clf = GradientBoostingClassifier(learning_rate=0.1, max_depth= 5, max_features = 5,random_state = 42)\n",
    "    clf = RandomForestClassifier(random_state = 42)\n",
    "    \n",
    "    clf.fit(x_train, y_train)\n",
    "    preds = clf.predict(x_test)\n",
    "    \n",
    "    print('accuracy_score',accuracy_score(y_test, preds))\n",
    "    \n",
    "    print('confusion_matrix',confusion_matrix(y_test, preds))\n",
    "\n",
    "\n",
    "total_preds = clf.predict(x)\n",
    "print(\"Confusion Matrix:\")\n",
    "confusion_matrix(y,total_preds)"
   ]
  },
  {
   "cell_type": "code",
   "execution_count": 294,
   "id": "4195c430",
   "metadata": {},
   "outputs": [
    {
     "name": "stdout",
     "output_type": "stream",
     "text": [
      "\n",
      "Accuracy Of SVM For The Given Dataset :  0.5633445945945946\n"
     ]
    }
   ],
   "source": [
    "# Implement SVM on POS tags\n",
    "\n",
    "\n",
    "#Splitting the dataset into training and test samples\n",
    "\n",
    "from sklearn.model_selection import train_test_split\n",
    "training_set, test_set = train_test_split(full, test_size = 0.2, random_state = 1)\n",
    "\n",
    "#Classifying the predictors and target\n",
    "\n",
    "X_train = training_set.iloc[:,8:].values\n",
    "Y_train = training_set.iloc[:,5].values\n",
    "X_test = test_set.iloc[:,8:].values\n",
    "Y_test = test_set.iloc[:,5].values\n",
    "\n",
    "\n",
    "#Initializing Support Vector Machine and fitting the training data\n",
    "\n",
    "from sklearn.svm import SVC\n",
    "classifier = SVC(kernel='rbf', random_state = 1)\n",
    "classifier.fit(X_train,Y_train)\n",
    "\n",
    "#Predicting the classes for test set\n",
    "\n",
    "Y_pred = classifier.predict(X_test)\n",
    "\n",
    "#Calculating the accuracy of the predictions using the confusion matrix\n",
    "\n",
    "from sklearn.metrics import confusion_matrix\n",
    "cm = confusion_matrix(Y_test,Y_pred)\n",
    "accuracy = float(cm.diagonal().sum())/len(Y_test)\n",
    "print(\"\\nAccuracy Of SVM For The Given Dataset : \", accuracy)"
   ]
  },
  {
   "cell_type": "code",
   "execution_count": 298,
   "id": "2480dc90",
   "metadata": {},
   "outputs": [
    {
     "name": "stdout",
     "output_type": "stream",
     "text": [
      "Accuracy Of Decision Tree Without  Optimization For The Given Dataset : 0.5430985915492957\n"
     ]
    }
   ],
   "source": [
    "#Implement Decision Tree\n",
    "# Split dataset into training set and test set\n",
    "from sklearn import metrics #Import scikit-learn metrics module for accuracy calculation\n",
    "\n",
    "x = full.iloc[:, 8:]\n",
    "y = full.iloc[:, 5]\n",
    "\n",
    "\n",
    "X_train, X_test, y_train, y_test = train_test_split(x, y, test_size=0.3, random_state=1) # 70% training and 30% test\n",
    "\n",
    "# Create Decision Tree classifer object\n",
    "clf = DecisionTreeClassifier()\n",
    "\n",
    "# Train Decision Tree Classifer\n",
    "clf = clf.fit(X_train,y_train)\n",
    "\n",
    "#Predict the response for test dataset\n",
    "y_pred = clf.predict(X_test)\n",
    "\n",
    "# Model Accuracy, how often is the classifier correct?\n",
    "print(\"Accuracy Of Decision Tree Without  Optimization For The Given Dataset :\",metrics.accuracy_score(y_test, y_pred))"
   ]
  },
  {
   "cell_type": "code",
   "execution_count": 291,
   "id": "10bc2b7b",
   "metadata": {},
   "outputs": [
    {
     "name": "stdout",
     "output_type": "stream",
     "text": [
      "Accuracy Of Decision Tree After Optimization For The Given Dataset  : 0.5836619718309859\n"
     ]
    }
   ],
   "source": [
    "# Create Decision Tree classifer object\n",
    "clf = DecisionTreeClassifier(criterion=\"entropy\", max_depth=3)\n",
    "\n",
    "# Train Decision Tree Classifer\n",
    "clf = clf.fit(X_train,y_train)\n",
    "\n",
    "#Predict the response for test dataset\n",
    "y_pred = clf.predict(X_test)\n",
    "\n",
    "# Model Accuracy, how often is the classifier correct?\n",
    "print(\"Accuracy Of Decision Tree After Optimization For The Given Dataset  :\",metrics.accuracy_score(y_test, y_pred))"
   ]
  },
  {
   "cell_type": "code",
   "execution_count": 262,
   "id": "ac763bd8",
   "metadata": {},
   "outputs": [
    {
     "data": {
      "text/plain": [
       "(2936, 7202)"
      ]
     },
     "execution_count": 262,
     "metadata": {},
     "output_type": "execute_result"
    }
   ],
   "source": [
    "data_deleted.shape"
   ]
  },
  {
   "cell_type": "code",
   "execution_count": 269,
   "id": "7daf1e60",
   "metadata": {},
   "outputs": [
    {
     "data": {
      "text/plain": [
       "(5916, 3)"
      ]
     },
     "execution_count": 269,
     "metadata": {},
     "output_type": "execute_result"
    }
   ],
   "source": [
    "legitmate_data_Ph = legitmate_data[['Deleted','VP','NP']]\n",
    "data_deleted_Ph = data_deleted[['Deleted','VP','NP']]\n",
    "full_Ph = pd.concat([data_deleted_Ph, legitmate_data_Ph]).reset_index(drop=True)\n",
    "full_Ph.shape"
   ]
  },
  {
   "cell_type": "code",
   "execution_count": 272,
   "id": "9833486a",
   "metadata": {},
   "outputs": [
    {
     "data": {
      "text/html": [
       "<div>\n",
       "<style scoped>\n",
       "    .dataframe tbody tr th:only-of-type {\n",
       "        vertical-align: middle;\n",
       "    }\n",
       "\n",
       "    .dataframe tbody tr th {\n",
       "        vertical-align: top;\n",
       "    }\n",
       "\n",
       "    .dataframe thead th {\n",
       "        text-align: right;\n",
       "    }\n",
       "</style>\n",
       "<table border=\"1\" class=\"dataframe\">\n",
       "  <thead>\n",
       "    <tr style=\"text-align: right;\">\n",
       "      <th></th>\n",
       "      <th>Deleted</th>\n",
       "      <th>VP</th>\n",
       "      <th>NP</th>\n",
       "    </tr>\n",
       "  </thead>\n",
       "  <tbody>\n",
       "    <tr>\n",
       "      <th>0</th>\n",
       "      <td>1</td>\n",
       "      <td>0.20</td>\n",
       "      <td>0.80</td>\n",
       "    </tr>\n",
       "    <tr>\n",
       "      <th>1</th>\n",
       "      <td>1</td>\n",
       "      <td>0.25</td>\n",
       "      <td>0.75</td>\n",
       "    </tr>\n",
       "    <tr>\n",
       "      <th>2</th>\n",
       "      <td>1</td>\n",
       "      <td>0.25</td>\n",
       "      <td>0.75</td>\n",
       "    </tr>\n",
       "    <tr>\n",
       "      <th>3</th>\n",
       "      <td>1</td>\n",
       "      <td>0.00</td>\n",
       "      <td>1.00</td>\n",
       "    </tr>\n",
       "    <tr>\n",
       "      <th>4</th>\n",
       "      <td>1</td>\n",
       "      <td>0.00</td>\n",
       "      <td>1.00</td>\n",
       "    </tr>\n",
       "  </tbody>\n",
       "</table>\n",
       "</div>"
      ],
      "text/plain": [
       "   Deleted    VP    NP\n",
       "0        1  0.20  0.80\n",
       "1        1  0.25  0.75\n",
       "2        1  0.25  0.75\n",
       "3        1  0.00  1.00\n",
       "4        1  0.00  1.00"
      ]
     },
     "execution_count": 272,
     "metadata": {},
     "output_type": "execute_result"
    }
   ],
   "source": [
    "full_Ph.head()"
   ]
  },
  {
   "cell_type": "code",
   "execution_count": 274,
   "id": "95d5140f",
   "metadata": {},
   "outputs": [
    {
     "data": {
      "image/png": "[encoded data removed]",
      "text/plain": [
       "<Figure size 720x360 with 1 Axes>"
      ]
     },
     "metadata": {
      "needs_background": "light"
     },
     "output_type": "display_data"
    }
   ],
   "source": [
    "# BarPlot for phrasal tags\n",
    "fig = plt.figure(figsize =(10, 5))\n",
    "\n",
    "x=legitmate_data_Ph.columns[1:]\n",
    "df_l =legitmate_data_Ph.sum(axis=0)[1:]\n",
    "Legitimate=list(df_l)\n",
    "\n",
    "df_D =data_deleted_Ph.sum(axis=0)[1:]\n",
    "Deleted=list(df_D)\n",
    "\n",
    "x_axis = np.arange(len(x))\n",
    "\n",
    "# Multi bar Chart\n",
    "\n",
    "plt.bar(x_axis -0.2, Legitimate, width=0.4, label = 'Legitimate')\n",
    "plt.bar(x_axis +0.2, Deleted, width=0.4, label = 'Deleted')\n",
    "\n",
    "# Xticks\n",
    "\n",
    "plt.xticks(x_axis, x)\n",
    "\n",
    "# Add legend\n",
    "\n",
    "plt.legend()\n",
    "\n",
    "# Display\n",
    "\n",
    "plt.show()"
   ]
  },
  {
   "cell_type": "code",
   "execution_count": null,
   "id": "34d743de",
   "metadata": {},
   "outputs": [],
   "source": []
  },
  {
   "cell_type": "code",
   "execution_count": null,
   "id": "1995db92",
   "metadata": {},
   "outputs": [],
   "source": []
  }
 ],
 "metadata": {
  "kernelspec": {
   "display_name": "Python 3 (ipykernel)",
   "language": "python",
   "name": "python3"
  },
  "language_info": {
   "codemirror_mode": {
    "name": "ipython",
    "version": 3
   },
   "file_extension": ".py",
   "mimetype": "text/x-python",
   "name": "python",
   "nbconvert_exporter": "python",
   "pygments_lexer": "ipython3",
   "version": "3.10.1"
  }
 },
 "nbformat": 4,
 "nbformat_minor": 5
}
